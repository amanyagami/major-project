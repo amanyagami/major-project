{
 "cells": [
  {
   "cell_type": "code",
   "execution_count": null,
   "id": "97a5b83f",
   "metadata": {},
   "outputs": [],
   "source": [
    "import cv2\n",
    "import os\n",
    "import numpy as np\n",
    "from tqdm import tqdm\n",
    "\n",
    "os.makedirs('/home/amanyagami/input/gaussian_blurred', exist_ok=True)\n",
    "src_dir = '/home/amanyagami/input/sharp'\n",
    "images = os.listdir(src_dir)\n",
    "dst_dir = '/home/amanyagami/input/gaussian_blurred'"
   ]
  },
  {
   "cell_type": "code",
   "execution_count": null,
   "id": "43df4fb9",
   "metadata": {},
   "outputs": [],
   "source": []
  },
  {
   "cell_type": "code",
   "execution_count": null,
   "id": "e77dc42b",
   "metadata": {},
   "outputs": [],
   "source": [
    "for i, img in tqdm(enumerate(images), total=len(images)):\n",
    "    img = cv2.imread(f\"{src_dir}/{images[i]}\", cv2.IMREAD_COLOR)\n",
    "    # add gaussian blurring\n",
    "    blur = cv2.GaussianBlur(img, (31, 31), 0)\n",
    "    cv2.imwrite(f\"{dst_dir}/{images[i]}\", blur)\n"
   ]
  },
  {
   "cell_type": "code",
   "execution_count": null,
   "id": "94f4110c",
   "metadata": {},
   "outputs": [],
   "source": []
  },
  {
   "cell_type": "code",
   "execution_count": null,
   "id": "26eb48db",
   "metadata": {},
   "outputs": [],
   "source": []
  },
  {
   "cell_type": "code",
   "execution_count": null,
   "id": "aa7aa012",
   "metadata": {},
   "outputs": [],
   "source": []
  },
  {
   "cell_type": "code",
   "execution_count": null,
   "id": "be5810d8",
   "metadata": {},
   "outputs": [],
   "source": [
    "# constructing the argument parser\n",
    "parser = argparse.ArgumentParser()\n",
    "parser.add_argument('-e', '--epochs', type=int, default=40, help='number of epochs to train the model for')\n",
    "args = vars(parser.parse_args())\n",
    "\n"
   ]
  },
  {
   "cell_type": "code",
   "execution_count": null,
   "id": "4002afec",
   "metadata": {},
   "outputs": [],
   "source": [
    "def save_decoded_image(img, name):\n",
    "    img = img.view(img.size(0), 3, 224, 224)\n",
    "    save_image(img, name)\n",
    "# helper functions\n",
    "image_dir = '../outputs/saved_images'\n",
    "os.makedirs(image_dir, exist_ok=True)\n",
    "device = 'cuda:0' if torch.cuda.is_available() else 'cpu'\n",
    "print(device)\n",
    "batch_size = 2"
   ]
  },
  {
   "cell_type": "code",
   "execution_count": null,
   "id": "73d38eba",
   "metadata": {},
   "outputs": [],
   "source": [
    "\n"
   ]
  },
  {
   "cell_type": "code",
   "execution_count": null,
   "id": "e085ee44",
   "metadata": {},
   "outputs": [],
   "source": [
    "\n",
    "gauss_blur = os.listdir('../input/gaussian_blurred')\n",
    "gauss_blur.sort()\n",
    "sharp = os.listdir('../input/sharp')\n",
    "sharp.sort()\n",
    "x_blur = []\n",
    "for i in range(len(gauss_blur)):\n",
    "    x_blur.append(gauss_blur[i])\n",
    "y_sharp = []\n",
    "for i in range(len(sharp)):\n",
    "    y_sharp.append(sharp[i])"
   ]
  },
  {
   "cell_type": "code",
   "execution_count": null,
   "id": "2dd4d38e",
   "metadata": {},
   "outputs": [],
   "source": []
  },
  {
   "cell_type": "code",
   "execution_count": null,
   "id": "2f3f1219",
   "metadata": {},
   "outputs": [],
   "source": [
    "(x_train, x_val, y_train, y_val) = train_test_split(x_blur, y_sharp, test_size=0.25)\n",
    "print(f\"Train data instances: {len(x_train)}\")\n",
    "print(f\"Validation data instances: {len(x_val)}\")"
   ]
  },
  {
   "cell_type": "code",
   "execution_count": null,
   "id": "cba744a9",
   "metadata": {},
   "outputs": [],
   "source": []
  },
  {
   "cell_type": "code",
   "execution_count": null,
   "id": "3e908e00",
   "metadata": {},
   "outputs": [],
   "source": [
    "# define transforms\n",
    "transform = transforms.Compose([\n",
    "    transforms.ToPILImage(),\n",
    "    transforms.Resize((224, 224)),\n",
    "    transforms.ToTensor(),\n",
    "])"
   ]
  },
  {
   "cell_type": "code",
   "execution_count": null,
   "id": "a3ec618d",
   "metadata": {},
   "outputs": [],
   "source": []
  },
  {
   "cell_type": "code",
   "execution_count": null,
   "id": "a2e7d5f8",
   "metadata": {},
   "outputs": [],
   "source": []
  },
  {
   "cell_type": "code",
   "execution_count": null,
   "id": "84f5a6df",
   "metadata": {},
   "outputs": [],
   "source": []
  },
  {
   "cell_type": "code",
   "execution_count": null,
   "id": "cb4b46bf",
   "metadata": {},
   "outputs": [],
   "source": [
    "class DeblurDataset(Dataset):\n",
    "    def __init__(self, blur_paths, sharp_paths=None, transforms=None):\n",
    "        self.X = blur_paths\n",
    "        self.y = sharp_paths\n",
    "        self.transforms = transforms\n",
    "         \n",
    "    def __len__(self):\n",
    "        return (len(self.X))\n",
    "    \n",
    "    def __getitem__(self, i):\n",
    "        blur_image = cv2.imread(f\"../input/gaussian_blurred/{self.X[i]}\")\n",
    "        \n",
    "        if self.transforms:\n",
    "            blur_image = self.transforms(blur_image)\n",
    "            \n",
    "        if self.y is not None:\n",
    "            sharp_image = cv2.imread(f\"../input/sharp/{self.y[i]}\")\n",
    "            sharp_image = self.transforms(sharp_image)\n",
    "            return (blur_image, sharp_image)\n",
    "        else:\n",
    "            return blur_image"
   ]
  },
  {
   "cell_type": "code",
   "execution_count": null,
   "id": "985fb8d5",
   "metadata": {},
   "outputs": [],
   "source": []
  },
  {
   "cell_type": "code",
   "execution_count": null,
   "id": "2e6b1275",
   "metadata": {},
   "outputs": [],
   "source": [
    "train_data = DeblurDataset(x_train, y_train, transform)\n",
    "val_data = DeblurDataset(x_val, y_val, transform)\n",
    " \n",
    "trainloader = DataLoader(train_data, batch_size=batch_size, shuffle=True)\n",
    "valloader = DataLoader(val_data, batch_size=batch_size, shuffle=False)"
   ]
  },
  {
   "cell_type": "code",
   "execution_count": null,
   "id": "2ea8b850",
   "metadata": {},
   "outputs": [],
   "source": []
  },
  {
   "cell_type": "code",
   "execution_count": null,
   "id": "fafbdb22",
   "metadata": {},
   "outputs": [],
   "source": []
  },
  {
   "cell_type": "code",
   "execution_count": null,
   "id": "19a58a8a",
   "metadata": {},
   "outputs": [],
   "source": [
    "class DeblurCNN(nn.Module):\n",
    "    def __init__(self):\n",
    "        super(DeblurCNN, self).__init__()\n",
    "        self.conv1 = nn.Conv2d(3, 64, kernel_size=9, padding=2)\n",
    "        self.conv2 = nn.Conv2d(64, 32, kernel_size=1, padding=2)\n",
    "        self.conv3 = nn.Conv2d(32, 3, kernel_size=5, padding=2)\n",
    "    def forward(self, x):\n",
    "        x = F.relu(self.conv1(x))\n",
    "        x = F.relu(self.conv2(x))\n",
    "        x = self.conv3(x)\n",
    "        return x\n",
    "model = DeblurCNN().to(device)\n",
    "print(model)"
   ]
  },
  {
   "cell_type": "code",
   "execution_count": null,
   "id": "475f02c5",
   "metadata": {},
   "outputs": [],
   "source": [
    "\n"
   ]
  },
  {
   "cell_type": "code",
   "execution_count": null,
   "id": "aab9ec09",
   "metadata": {},
   "outputs": [],
   "source": [
    "# the loss function\n",
    "criterion = nn.MSELoss()\n",
    "# the optimizer\n",
    "optimizer = optim.Adam(model.parameters(), lr=0.001)\n",
    "scheduler = torch.optim.lr_scheduler.ReduceLROnPlateau( \n",
    "        optimizer,\n",
    "        mode='min',\n",
    "        patience=5,\n",
    "        factor=0.5,\n",
    "        verbose=True\n",
    "    )"
   ]
  },
  {
   "cell_type": "code",
   "execution_count": null,
   "id": "a94fd373",
   "metadata": {},
   "outputs": [],
   "source": []
  },
  {
   "cell_type": "code",
   "execution_count": null,
   "id": "96698b10",
   "metadata": {},
   "outputs": [],
   "source": [
    "def fit(model, dataloader, epoch):\n",
    "    model.train()\n",
    "    running_loss = 0.0\n",
    "    for i, data in tqdm(enumerate(dataloader), total=int(len(train_data)/dataloader.batch_size)):\n",
    "        blur_image = data[0]\n",
    "        sharp_image = data[1]\n",
    "        blur_image = blur_image.to(device)\n",
    "        sharp_image = sharp_image.to(device)\n",
    "        optimizer.zero_grad()\n",
    "        outputs = model(blur_image)\n",
    "        loss = criterion(outputs, sharp_image)\n",
    "        # backpropagation\n",
    "        loss.backward()\n",
    "        # update the parameters\n",
    "        optimizer.step()\n",
    "        running_loss += loss.item()\n",
    "    \n",
    "    train_loss = running_loss/len(dataloader.dataset)\n",
    "    print(f\"Train Loss: {train_loss:.5f}\")\n",
    "    \n",
    "    return train_loss"
   ]
  },
  {
   "cell_type": "code",
   "execution_count": null,
   "id": "ec092966",
   "metadata": {},
   "outputs": [],
   "source": []
  },
  {
   "cell_type": "code",
   "execution_count": null,
   "id": "351a302b",
   "metadata": {},
   "outputs": [],
   "source": [
    "def validate(model, dataloader, epoch):\n",
    "    model.eval()\n",
    "    running_loss = 0.0\n",
    "    with torch.no_grad():\n",
    "        for i, data in tqdm(enumerate(dataloader), total=int(len(val_data)/dataloader.batch_size)):\n",
    "            blur_image = data[0]\n",
    "            sharp_image = data[1]\n",
    "            blur_image = blur_image.to(device)\n",
    "            sharp_image = sharp_image.to(device)\n",
    "            outputs = model(blur_image)\n",
    "            loss = criterion(outputs, sharp_image)\n",
    "            running_loss += loss.item()\n",
    "            if epoch == 0 and i == int((len(val_data)/dataloader.batch_size)-1):\n",
    "                save_decoded_image(sharp_image.cpu().data, name=f\"../outputs/saved_images/sharp{epoch}.jpg\")\n",
    "                save_decoded_image(blur_image.cpu().data, name=f\"../outputs/saved_images/blur{epoch}.jpg\")\n",
    "            if i == int((len(val_data)/dataloader.batch_size)-1):\n",
    "                save_decoded_image(outputs.cpu().data, name=f\"../outputs/saved_images/val_deblurred{epoch}.jpg\")\n",
    "        val_loss = running_loss/len(dataloader.dataset)\n",
    "        print(f\"Val Loss: {val_loss:.5f}\")\n",
    "        \n",
    "        return val_loss"
   ]
  },
  {
   "cell_type": "code",
   "execution_count": null,
   "id": "fe56f163",
   "metadata": {},
   "outputs": [],
   "source": [
    "train_loss  = []\n",
    "val_loss = []\n",
    "start = time.time()\n",
    "for epoch in range(args['epochs']):\n",
    "    print(f\"Epoch {epoch+1} of {args['epochs']}\")\n",
    "    train_epoch_loss = fit(model, trainloader, epoch)\n",
    "    val_epoch_loss = validate(model, valloader, epoch)\n",
    "    train_loss.append(train_epoch_loss)\n",
    "    val_loss.append(val_epoch_loss)\n",
    "    scheduler.step(val_epoch_loss)\n",
    "end = time.time()\n",
    "print(f\"Took {((end-start)/60):.3f} minutes to train\")"
   ]
  },
  {
   "cell_type": "code",
   "execution_count": null,
   "id": "1217fe2e",
   "metadata": {},
   "outputs": [],
   "source": []
  },
  {
   "cell_type": "code",
   "execution_count": null,
   "id": "9baf5e85",
   "metadata": {},
   "outputs": [],
   "source": []
  },
  {
   "cell_type": "code",
   "execution_count": null,
   "id": "656c77b8",
   "metadata": {},
   "outputs": [],
   "source": [
    "# loss plots\n",
    "plt.figure(figsize=(10, 7))\n",
    "plt.plot(train_loss, color='orange', label='train loss')\n",
    "plt.plot(val_loss, color='red', label='validataion loss')\n",
    "plt.xlabel('Epochs')\n",
    "plt.ylabel('Loss')\n",
    "plt.legend()\n",
    "plt.savefig('../outputs/loss.png')\n",
    "plt.show()\n",
    "# save the model to disk\n",
    "print('Saving model...')\n",
    "torch.save(model.state_dict(), '../outputs/model.pth')"
   ]
  },
  {
   "cell_type": "code",
   "execution_count": null,
   "id": "04b1f2f4",
   "metadata": {},
   "outputs": [],
   "source": []
  },
  {
   "cell_type": "code",
   "execution_count": null,
   "id": "91ae440d",
   "metadata": {},
   "outputs": [],
   "source": []
  }
 ],
 "metadata": {
  "kernelspec": {
   "display_name": "Python 3",
   "language": "python",
   "name": "python3"
  },
  "language_info": {
   "codemirror_mode": {
    "name": "ipython",
    "version": 3
   },
   "file_extension": ".py",
   "mimetype": "text/x-python",
   "name": "python",
   "nbconvert_exporter": "python",
   "pygments_lexer": "ipython3",
   "version": "3.8.8"
  }
 },
 "nbformat": 4,
 "nbformat_minor": 5
}
